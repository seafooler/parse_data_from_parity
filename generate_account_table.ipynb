{
 "cells": [
  {
   "cell_type": "code",
   "execution_count": 37,
   "metadata": {},
   "outputs": [],
   "source": [
    "import os, pickle, random, requests, json, sys\n",
    "from utils import exeSQL, insert_account\n",
    "\n",
    "from tqdm import tqdm as tqdm_no_notebook\n",
    "from tqdm import tqdm_notebook\n",
    "\n",
    "parity_url = 'http://127.0.0.1:8545'\n",
    "table_name = 'account'\n",
    "\n",
    "def is_ijupyter():\n",
    "    return 'ipykernel' in sys.modules\n",
    "\n",
    "tqdm = tqdm_notebook if is_ijupyter() else tqdm_no_notebook"
   ]
  },
  {
   "cell_type": "code",
   "execution_count": 38,
   "metadata": {},
   "outputs": [],
   "source": [
    "def create_account_table():\n",
    "    create_account_sql = \"\"\"CREATE TABLE account ( `id` int(11) NOT NULL AUTO_INCREMENT,\n",
    "                `address` char(42) NOT NULL, `kind` enum('normal','sc','none') NOT NULL,\n",
    "                PRIMARY KEY (`id`), UNIQUE (`address`)) ENGINE=InnoDB\"\"\"\n",
    "    exeSQL(create_account_sql, True)\n",
    "    \n",
    "def drop_table():\n",
    "    drop_table_sql = \"\"\"DROP TABLE account\"\"\"\n",
    "    exeSQL(drop_table_sql, True)"
   ]
  },
  {
   "cell_type": "code",
   "execution_count": 39,
   "metadata": {},
   "outputs": [],
   "source": [
    "recreate = False\n",
    "if recreate:\n",
    "#     drop_table()\n",
    "    create_account_table()"
   ]
  },
  {
   "cell_type": "code",
   "execution_count": 40,
   "metadata": {},
   "outputs": [],
   "source": [
    "def fetch_total_addr():\n",
    "    if os.path.isfile('total_addr_set_20151001_20151231.pkl'):\n",
    "        with open('total_addr_set_20151001_20151231.pkl', 'rb') as f:\n",
    "            total_addr_set = pickle.load(f)\n",
    "    else:\n",
    "        source_set = fetchAddressSet('source')\n",
    "        target_set = fetchAddressSet('target')\n",
    "        total_addr_set = source_set.union(target_set)\n",
    "        with open('total_addr_set_20151001_20151231.pkl', 'wb') as f:\n",
    "            pickle.dump(total_addr_set, f)\n",
    "    return total_addr_set"
   ]
  },
  {
   "cell_type": "code",
   "execution_count": 41,
   "metadata": {},
   "outputs": [],
   "source": [
    "def eth_getCode(addr):\n",
    "    data_json = {\"method\":\"eth_getCode\",\n",
    "            \"params\":[addr, \"latest\"],\n",
    "            \"id\": random.randint(1, 10000), \"jsonrpc\":\"2.0\"}\n",
    "    headers_json = {\"Content-Type\": \"application/json\"}\n",
    "    r = requests.post(parity_url, headers=headers_json, data=json.dumps(data_json))\n",
    "    rj = r.json()\n",
    "    if rj['id'] ==  data_json['id']:\n",
    "        if 'result' in rj:\n",
    "            if rj['result'] == '0x':\n",
    "                return 'normal'\n",
    "            else:\n",
    "                return 'sc'\n",
    "        else:\n",
    "            print (\"Addr: \" + addr + \" , rj: \" + str(rj))\n",
    "            return None\n",
    "    else:\n",
    "        return None"
   ]
  },
  {
   "cell_type": "code",
   "execution_count": 42,
   "metadata": {},
   "outputs": [],
   "source": [
    "def query_account(addr):\n",
    "    query_account_sql = (\"SELECT * FROM {} WHERE address = '{}' limit 1\").format(table_name, addr)\n",
    "    query_account_sql_result = exeSQL(query_account_sql)\n",
    "    return query_account_sql_result"
   ]
  },
  {
   "cell_type": "code",
   "execution_count": 43,
   "metadata": {},
   "outputs": [],
   "source": [
    "def insert_amount_type():\n",
    "    total_addr_set = fetch_total_addr()\n",
    "    for addr in tqdm(total_addr_set):\n",
    "        if len(query_account(addr)) > 0:\n",
    "            continue\n",
    "        account_type = eth_getCode(addr)\n",
    "        insert_account(addr, account_type, table_name)"
   ]
  },
  {
   "cell_type": "code",
   "execution_count": 44,
   "metadata": {},
   "outputs": [
    {
     "data": {
      "application/vnd.jupyter.widget-view+json": {
       "model_id": "9d3c5f26510c46dc99b67342b66a3e75",
       "version_major": 2,
       "version_minor": 0
      },
      "text/plain": [
       "HBox(children=(IntProgress(value=0, max=21103), HTML(value='')))"
      ]
     },
     "metadata": {},
     "output_type": "display_data"
    }
   ],
   "source": [
    "insert_amount_type()"
   ]
  },
  {
   "cell_type": "code",
   "execution_count": null,
   "metadata": {},
   "outputs": [],
   "source": []
  }
 ],
 "metadata": {
  "kernelspec": {
   "display_name": "Python 3",
   "language": "python",
   "name": "python3"
  },
  "language_info": {
   "codemirror_mode": {
    "name": "ipython",
    "version": 3
   },
   "file_extension": ".py",
   "mimetype": "text/x-python",
   "name": "python",
   "nbconvert_exporter": "python",
   "pygments_lexer": "ipython3",
   "version": "3.5.2"
  }
 },
 "nbformat": 4,
 "nbformat_minor": 2
}
